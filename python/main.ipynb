{
  "cells": [
    {
      "attachments": {},
      "cell_type": "markdown",
      "metadata": {
        "id": "oDR7QJckZsb0"
      },
      "source": [
        "# CODE: A graph-based superpixel segmentation method for measuring pressure ulcers\n",
        "\n",
        "This code is used to generate overlapping and statistics using Python. The main program in Java provide the same way to achieve the objectives. This code extendend previous analisys in Silva e Machado (2021), improve the analysis for DISF, ERS, SNIC, and possibility extend future funcionalities and approaches for this research using Python."
      ]
    },
    {
      "cell_type": "markdown",
      "metadata": {
        "id": "sPRJIdIzwzjl"
      },
      "source": [
        "# Mount the drive to access files"
      ]
    },
    {
      "cell_type": "code",
      "execution_count": null,
      "metadata": {
        "colab": {
          "base_uri": "https://localhost:8080/"
        },
        "id": "fSiLu9Cw1tMc",
        "outputId": "9b510e61-3ecd-4bae-f12b-acf871232ca6"
      },
      "outputs": [
        {
          "name": "stdout",
          "output_type": "stream",
          "text": [
            "Mounted at /content/drive\n"
          ]
        }
      ],
      "source": [
        "# Montar o drive do google\n",
        "from google.colab import drive\n",
        "drive.mount('/content/drive')"
      ]
    },
    {
      "cell_type": "markdown",
      "metadata": {
        "id": "W1xIAEs0w4u_"
      },
      "source": [
        "# Load libraries"
      ]
    },
    {
      "cell_type": "code",
      "execution_count": null,
      "metadata": {
        "id": "BJVaZSKNZObX"
      },
      "outputs": [],
      "source": [
        "# Importar bibliotecas\n",
        "import cv2\n",
        "import os\n",
        "import pandas as pd\n",
        "import numpy as np\n",
        "import imutils\n",
        "import time\n",
        "import csv\n",
        "import matplotlib.pyplot as plt\n",
        "from collections import Counter\n",
        "from scipy.sparse import csr_matrix\n",
        "from google.colab.patches import cv2_imshow"
      ]
    },
    {
      "cell_type": "markdown",
      "metadata": {
        "id": "YXuVPkXZw7tT"
      },
      "source": [
        "# Main functions"
      ]
    },
    {
      "cell_type": "code",
      "execution_count": null,
      "metadata": {
        "id": "mITvJVWDrhkZ"
      },
      "outputs": [],
      "source": [
        "# REMOVE GLARE\n",
        "def remove_glare(img):\n",
        "  # convert to gray\n",
        "  gray = cv2.cvtColor(img, cv2.COLOR_BGR2GRAY)\n",
        "  blurred = cv2.GaussianBlur(gray, (3,3), 0)\n",
        "  thresh = cv2.threshold(blurred, 225, 255, cv2.THRESH_BINARY)[1]\n",
        "  \n",
        "  # threshold grayscale image to extract glare\n",
        "  mask = cv2.threshold(thresh, 200, 255, cv2.THRESH_BINARY)[1]\n",
        "  \n",
        "  # Optionally add some morphology close and open, if desired\n",
        "  kernel = cv2.getStructuringElement(cv2.MORPH_ELLIPSE, (7,7))\n",
        "  mask = cv2.morphologyEx(mask, cv2.MORPH_CLOSE, kernel, iterations=1)\n",
        "  #kernel = cv2.getStructuringElement(cv2.MORPH_ELLIPSE, (3,3))\n",
        "  #mask = cv2.morphologyEx(mask, cv2.MORPH_OPEN, kernel, iterations=1)\n",
        "\n",
        "  # use mask with input to do inpainting\n",
        "  inpainting = cv2.inpaint(img, mask, 3, cv2.INPAINT_TELEA) \n",
        "  # media filter for noise reduction\n",
        "  result = cv2.GaussianBlur(inpainting, (3,3), 0)\n",
        "  # write result to disk\n",
        "  #cv2.imwrite(\"image_mask.png\", mask)\n",
        "  #cv2.imwrite(\"image_inpaint.png\", result)\n",
        "  \n",
        "  # display it\n",
        "  #cv2_imshow(img)\n",
        "  #cv2_imshow(gray)\n",
        "  #cv2_imshow(blurred)\n",
        "  #cv2_imshow(thresh)\n",
        "  #cv2_imshow(mask)\n",
        "  #cv2_imshow(result)\n",
        "\n",
        "  return result, thresh\n",
        "\n",
        "# CONVERT IMG TO PGM\n",
        "def convert_pgm(img):\n",
        "  img = cv2.cvtColor(img, cv2.COLOR_BGR2GRAY)\n",
        "  img[img < 127] = 0\n",
        "  img[img != 0] = 255\n",
        "  #cv2_imshow(img)\n",
        "  return img\n",
        "\n",
        "# https://github.com/andrewseaman35/aseaman/blob/7361d3c0611dd8932982d84ad4bde927f89acee7/exploration/draw_jasper/run_comparison.py\n",
        "def binary_gt(path_dir_name):\n",
        "  for i in path_dir_name:\n",
        "    if i == '.ipynb_checkpoints':\n",
        "      continue\n",
        "\n",
        "    # LOAD IMAGE\n",
        "    img_name = path+'/'+str(i)+'/'+str(i)+'_02_LABELED_RESAMPLE.jpg'\n",
        "    img = cv2.imread(img_name)\n",
        "    \n",
        "    gray = cv2.cvtColor(img,cv2.COLOR_BGR2GRAY)\n",
        "    gray[gray < 11] = 0\n",
        "    gray[gray >= 11] = 255\n",
        "\n",
        "    # FIND OUTER CONTOUR AND FILL WITH WHITE\n",
        "    cnts = cv2.findContours(gray, cv2.RETR_TREE, cv2.CHAIN_APPROX_SIMPLE)\n",
        "    cnts = cnts[0] if len(cnts) == 2 else cnts[1]\n",
        "    \n",
        "    blackMask = np.zeros([240, 300, 1], dtype=np.uint8)\n",
        "\n",
        "    #polyMask = cv2.polylines(blackMask, cnts, isClosed = True, color=(0,0,0) , thickness = 3)\n",
        "    result = cv2.fillPoly(blackMask, cnts, [255])\n",
        "    #kernel = cv2.getStructuringElement(cv2.MORPH_CROSS, (3,3))\n",
        "    #morph1 = cv2.morphologyEx(result, cv2.MORPH_ERODE, kernel)\n",
        "    #morph2 = cv2.morphologyEx(result, cv2.MORPH_OPEN, kernel)\n",
        "    \n",
        "    print(\"Resultado\")\n",
        "    cv2_imshow(result)\n",
        "\n",
        "    # Save Binary Ground Truth\n",
        "    #img_name = path+'/'+str(i)+'/'+str(i)+'_00_GROUND_TRUTH_BINARY.jpg'\n",
        "    #cv2.imwrite(img_name, morph2)\n",
        "    #plt.imsave(img_name, thresh, cmap = plt.cm.binary_r) \n",
        "\n",
        "# COMPUTE SEEDS\n",
        "def seeds_computation(ulcerRegion, nonUlcerRegion, nblack_seeds, nwhite_seeds): \n",
        "  # Get dimensions of image\n",
        "  dim = nonUlcerRegion.shape\n",
        "  # Height, width, number of channels in image\n",
        "  height = nonUlcerRegion.shape[0]\n",
        "  width = nonUlcerRegion.shape[1]\n",
        "  #channels = nonUlcerRegion.shape[2]\n",
        "  # Print dimensions\n",
        "  print(\"As dimensões da imagem são\", dim)\n",
        "  npixels = height*width\n",
        "  print(\"O número total de pixels é\", npixels)\n",
        "  \n",
        "  # Retrieval white pixels coodinates from nonUlcerRegion binary image \n",
        "  #list(white = np.where(nonUlcerRegion == [255]))\n",
        "  first_row = nonUlcerRegion[0, :]\n",
        "  last_row = nonUlcerRegion[239, :]\n",
        "  first_column = nonUlcerRegion[:, 0]\n",
        "  last_column = nonUlcerRegion[:, 299]\n",
        "\n",
        "  white = np.zeros(nonUlcerRegion.shape)\n",
        "  #white = np.zeros(dim, dtype=int)\n",
        "  white[0, :] = first_row\n",
        "  white[239, :] = last_row\n",
        "  white[:, 0] = first_column\n",
        "  white[:, 299] = last_column\n",
        "\n",
        "  # Generate tuple of white pixels coordinates\n",
        "  white = np.where(white == [255])\n",
        "  print(\"O número total de pixels branco é\", len(white))\n",
        "    \n",
        "  #imgplot = plt.imshow(white)\n",
        "  #imgplot.set_cmap('binary_r')\n",
        "\n",
        "  # Retrieval black pixels coodinates from ulcerRegion binary image\n",
        "  # generate tuple of black pixels coordinates\n",
        "  black = np.where(ulcerRegion == [0])\n",
        "  print(\"O número total de pixels preto é\", len(black))\n",
        "\n",
        "  # Zip (iterator) and convert to list for white pixels matrix (background)\n",
        "  listzip1 = list(zip(white[0], white[1]))\n",
        "  coord_bg = np.asarray(listzip1)\n",
        "  print(\"O número total de seeds/coordenadas branco é\", len(coord_bg))\n",
        "\n",
        "\n",
        "  # Zip (iterator) and convert to list for black pixels matrix (foreground)\n",
        "  listzip2 = list(zip(black[0], black[1]))\n",
        "  coord_fg = np.asarray(listzip2)\n",
        "  print(\"Quantidade total de seeds/coordenadas pretos é\", len(coord_fg))\n",
        "\n",
        "  # Amount of all seeds or coords number\n",
        "  nseeds = int(len(coord_bg)+len(coord_fg))\n",
        "  print(\"Quantidade total de seeds/coordenadas é\", nseeds)\n",
        "\n",
        "  # Proportional seeds for black and white regions\n",
        "  #black_prop = len(coord_bg)/nseeds\n",
        "  #nblack_seeds = int(black_prop * nseeds)\n",
        "  #print(\"A proporção de sementes em regiões de úlcera é\", round(float(black_prop)*100, 0))\n",
        "  #print(\"A quantidade de seeds preto é\", nblack_seeds)\n",
        "\n",
        "  #white_prop = len(coord_fg)/nseeds\n",
        "  #nwhite_seeds = int(white_prop * nseeds)\n",
        "  #print(\"A proporção de sementes em regiões de não úlcera é\", round(float(white_prop)*100, 0))\n",
        "  #print(\"A quantidade de seeds branco é\", nwhite_seeds)\n",
        "\n",
        "  # Setup amount of seeds for black regions\n",
        "  # nblack_seeds = 2800\n",
        "  if nblack_seeds > len(coord_fg):\n",
        "    print(\"Quantidade de seeds pretos maior que o total.\")\n",
        "    print(\"Quantidade de seeds pretos foi ajustado para o maior valor possível:\" , len(coord_fg))\n",
        "    nblack_seeds = len(coord_fg)\n",
        "\n",
        "  print(\"Nova quantidade de seeds preto é\", nblack_seeds)\n",
        "  \n",
        "  # Setup amount of seeds for white regions\n",
        "  # nwhite_seeds = 2000\n",
        "  if nwhite_seeds > len(coord_bg):\n",
        "    print(\"Quantidade de seeds brancos maior que o total.\")\n",
        "    print(\"Quantidade seeds brancos foi ajustado para o maior valor possível:\" , len(coord_bg))\n",
        "    nwhite_seeds = len(coord_bg)\n",
        "  \n",
        "  print(\"Nova quantidade de seeds branco é\", nwhite_seeds)\n",
        "\n",
        "  # Setup the amount of rows from DataFrame (is the same of amount of seeds + header row)\n",
        "  nrows = nblack_seeds+nwhite_seeds+1\n",
        "  print(\"Nova quantidade de seeds/coordenadas é\", nrows-1)\n",
        "\n",
        "  # CREATE SEEDS DATAFRAME WITH LABELS AND COORDINATES\n",
        "  #header = [nrows-1, width, height]\n",
        "  # Setup labels: 0 is background / 1 is ulcer / 2 isn't ulcer\n",
        "  df_header = pd.DataFrame({'x': [nrows], 'y': width, 'conn': height, 'label':''})\n",
        "  df_white = pd.DataFrame({'x': coord_bg[:, 0], 'y': coord_bg[:, 1],'conn': 1,'label': 2})\n",
        "  df_black = pd.DataFrame({'x': coord_fg[:, 0], 'y': coord_fg[:, 1],'conn': 1,'label': 1})\n",
        "\n",
        "  # Select n rows randomly from DataFrame\n",
        "  rdf_white = df_white.sample(n = nwhite_seeds, replace = True)\n",
        "  rdf_black = df_black.sample(n = nblack_seeds, replace = True)\n",
        "\n",
        "  # Concatenate DataFrame without header\n",
        "  df_data = rdf_white.append(rdf_black)\n",
        "  #print(df_data)\n",
        "\n",
        "  # Create seeds file with labels in your specifics coordinates\n",
        "  seeds = np.zeros(dim, dtype=int)\n",
        "  seeds[df_data.iloc[:]['x'],df_data.iloc[:]['y']] = df_data.iloc[:]['label'] \n",
        "\n",
        "  # Save seeds np array as .txt\n",
        "  np.savetxt(path+'/'+str(i)+'/'+'seeds.txt', seeds, fmt = '%d')\n",
        "  print(\">>> Um arquivo seeds.txt foi gravado com sucesso!\")\n",
        "\n",
        "  # Save seeds as binary .jpg image\n",
        "  img_name = path+'/'+str(i)+'/'+str(i)+'_15_SEEDS_DISTRIBUITION.jpg'\n",
        "  plt.imsave(img_name, seeds, cmap = plt.cm.binary)\n",
        "\n",
        "  return seeds\n",
        "\n",
        "# CREATE GT BINARY IMAGE\n",
        "def binary_gt1(path_dir_name):\n",
        "  for i in path_dir_name:\n",
        "    if i == '.ipynb_checkpoints':\n",
        "      continue\n",
        "    print(\"Processando a imagem\", i)\n",
        "    # Load in image, convert to grayscale, and threshold\n",
        "    img_name = path+'/'+str(i)+'/'+str(i)+'_02_LABELED_RESAMPLE.jpg'\n",
        "    image = cv2.imread(img_name)\n",
        "    gray = cv2.cvtColor(image,cv2.COLOR_BGR2GRAY)\n",
        "    thresh = cv2.threshold(gray, 0, 255, cv2.THRESH_BINARY + cv2.THRESH_OTSU)[1]\n",
        "\n",
        "    # Close contour\n",
        "    kernel = cv2.getStructuringElement(cv2.MORPH_RECT, (7,7))\n",
        "    close = cv2.morphologyEx(thresh, cv2.MORPH_CLOSE, kernel, iterations=1)\n",
        "\n",
        "    # Find outer contour and fill with white\n",
        "    cnts = cv2.findContours(close, cv2.RETR_EXTERNAL, cv2.CHAIN_APPROX_SIMPLE)\n",
        "    cnts = cnts[0] if len(cnts) == 2 else cnts[1]\n",
        "    cv2.fillPoly(close, cnts, [255,255,255])\n",
        "    print(\"close\")\n",
        "    cv2_imshow(close)\n",
        "\n",
        "def binary_gt2(path_dir_name):\n",
        "  for i in path_dir_name:\n",
        "    if i == '.ipynb_checkpoints':\n",
        "      continue\n",
        "    print(\"Processando a imagem\", i)\n",
        "\n",
        "    # Image reader\n",
        "    img_name = path+'/'+str(i)+'/'+str(i)+'_02_LABELED_RESAMPLE.jpg'\n",
        "    img = cv2.imread(img_name) # BRG order, uint8 type\n",
        "    #cv2_imshow(img)\n",
        "    # Transform ground truth in binary image\n",
        "    # convert the image to grayscale format\n",
        "    img_gray = cv2.cvtColor(img, cv2.COLOR_BGR2GRAY)\n",
        "\n",
        "    # Blur image\n",
        "    # blur = cv2.medianBlur(img_gray,3)\n",
        "    #blur = cv2.GaussianBlur(img_gray,(7,7),0)\n",
        "\n",
        "    blur, thresh = remove_glare(img)\n",
        "    # img_gray = cv2.cvtColor(blur, cv2.COLOR_BGR2GRAY)\n",
        "    # visualize the binary image\n",
        "    #cv2_imshow(blur)\n",
        "    # cv2_imshow(thresh)\n",
        "    blur_gray = cv2.cvtColor(blur, cv2.COLOR_BGR2GRAY)\n",
        "    #cv2_imshow(blur_gray)\n",
        "\n",
        "    # Threshold\n",
        "    #thresh = cv2.adaptiveThreshold(blur, 0, cv2.ADAPTIVE_THRESH_GAUSSIAN_C, cv2.THRESH_BINARY, 3, 5)\n",
        "    ret, thresh = cv2.threshold(blur_gray, 5, 255, 0, cv2.THRESH_BINARY)\n",
        "    # ret,thresh = cv2.threshold(blur_gray,0,255,cv2.THRESH_BINARY+cv2.THRESH_OTSU)\n",
        "    #cv2_imshow(thresh)\n",
        "    \n",
        "    # Save Binary Ground Truth\n",
        "    img_name = path+'/'+str(i)+'/'+str(i)+'_00_GROUND_TRUTH_BINARY.jpg'\n",
        "    #cv2.imwrite(img_name2, thresh)\n",
        "    plt.imsave(img_name, thresh, cmap = plt.cm.binary_r)   \n",
        "\n",
        "def isBlackPixel(pixel):\n",
        "\n",
        "  return pixel < 200\n",
        "\n",
        "def overlapping_stats(method, i, exec_time, gtBinary, methodBinary):\n",
        "  # DEFINE COLORS FROM EACH PIXEL REGION\n",
        "  BLACK_PIXEL = 0;\n",
        "  DARK_GRAY_PIXEL = 110;\n",
        "  LIGHT_GRAY_PIXEL = 190;\n",
        "  WHITE_PIXEL = 255;\n",
        "\n",
        "  truePositives = 0.0\n",
        "  trueNegatives = 0.0\n",
        "  falsePositives = 0.0\n",
        "  falseNegatives = 0.0\n",
        "\n",
        "  # OVERLAPPING IMAGE\n",
        "  # create a new image with white pixels\n",
        "  overlappingImage = np.ones([240, 300, 3], dtype=np.uint8)*255\n",
        "\n",
        "  # CREATE OVERLAPPING AND STATISTICS FROM IMAGE COORDINATES\n",
        "  rows,cols = overlappingImage.shape[:2]\n",
        "\n",
        "  for ii in range(rows):\n",
        "      for j in range(cols):\n",
        "                      \n",
        "          pixelGt = gtBinary[ii,j]\n",
        "          pixel = methodBinary[ii,j]  \n",
        "          #pixelOverlapping = overlappingImage[ii,j]\n",
        "\n",
        "          #if bool(pixelGt<200) and bool(pixel<200):\n",
        "          if isBlackPixel(pixelGt) & isBlackPixel(pixel):\n",
        "            overlappingImage[ii,j] = LIGHT_GRAY_PIXEL\n",
        "            truePositives += 1\n",
        "          \n",
        "          #if not bool(pixelGt<200) and not bool(pixel<200):\n",
        "          if ~ isBlackPixel(pixelGt) & ~ isBlackPixel(pixel):\n",
        "            overlappingImage[ii,j] = WHITE_PIXEL\n",
        "            trueNegatives += 1   \n",
        "\n",
        "          #if not bool(pixelGt<200) and bool(pixel<200):\n",
        "          if ~ isBlackPixel(pixelGt) & isBlackPixel(pixel):\n",
        "            overlappingImage[ii,j] = DARK_GRAY_PIXEL\n",
        "            falsePositives += 1\n",
        "          \n",
        "          #if bool(pixelGt<200) and not bool(pixel<200):\n",
        "          if isBlackPixel(pixelGt) & ~ isBlackPixel(pixel):\n",
        "            overlappingImage[ii,j] = BLACK_PIXEL\n",
        "            falseNegatives += 1 \n",
        "\n",
        "  # BUILD STATISTICS\n",
        "  build_statistics(method, i, exec_time, overlappingImage, truePositives, trueNegatives, falsePositives, falseNegatives)\n",
        "\n",
        "# BUILD STATISTICS\n",
        "def build_statistics(method, i, exec_time, overlappingImage, truePositives, trueNegatives, falsePositives, falseNegatives):  \n",
        "  # sensitivity or recall \n",
        "  sensitivity = truePositives/(truePositives + falseNegatives)\n",
        "  # specificity\n",
        "  specificity = trueNegatives/(trueNegatives + falsePositives)\n",
        "  # precision \n",
        "  precision = truePositives/(truePositives + falsePositives)\n",
        "  # accuracy\n",
        "  accuracy = (truePositives + trueNegatives)/(truePositives + trueNegatives + falsePositives + falseNegatives)\n",
        "  #iou\n",
        "  iou = truePositives/(truePositives + falsePositives + falseNegatives)\n",
        "  #sepai list\n",
        "  sepai_list = [sensitivity, specificity, precision, accuracy, iou]\n",
        "  #min\n",
        "  min = np.min(sepai_list)\n",
        "  #max \n",
        "  max = np.max(sepai_list)\n",
        "  # mean sepai\n",
        "  sepai =  np.mean(sepai_list)\n",
        "  \n",
        "  print(\"método: \", method)\n",
        "  print(\"imagem: \", i)\n",
        "  print(\"superpixels: \", 200)\n",
        "  print(\"tempo de execução do método\", exec_time)\n",
        "  print(\"truePositives: \", truePositives)\n",
        "  print(\"trueNegatives: \", trueNegatives)\n",
        "  print(\"falsePositives: \", falsePositives)\n",
        "  print(\"falseNegatives: \", falseNegatives)\n",
        "  print(\"sensitivity: \", sensitivity)\n",
        "  print(\"specificity: \", specificity)\n",
        "  print(\"precision: \", precision)\n",
        "  print(\"accuracy: \", accuracy)\n",
        "  print(\"iou: \", iou)\n",
        "  print(\"min: \", min)\n",
        "  print(\"max: \", max)\n",
        "  print(\"mean_sepai: \", sepai)\n",
        "\n",
        "  # CREATE DATAFRAME WITH STATISTICS VALUES\n",
        "  df_header = pd.DataFrame({'IMAGE_NAME': [i], 'SUPERPIXELS': 200, 'EXECUTION_TIME': exec_time, 'TRUE_POSITIVES': truePositives, 'TRUE_NEGATIVES': trueNegatives, 'FALSE_POSITIVES': falsePositives, 'FALSE_NEGATIVES': falseNegatives, 'SENSITIVITY': sensitivity, 'SPECIFICITY': specificity, 'PRECISION': precision, 'ACCURACY': accuracy, 'INTERSECTION_UNION': iou, 'MIN SEPAI': min, 'MAX SEPAI': max, 'MEAN SEPAI':  sepai})\n",
        "\n",
        "  mean_name = \"MEAN: \" \n",
        "  std_name = \"STD: \"\n",
        "\n",
        "  # DECLARE VARIABLES AVERAGE\n",
        "  mean_exec_time = 0\n",
        "  mean_true_positives = 0\n",
        "  mean_true_negatives = 0\n",
        "  mean_false_positives = 0\n",
        "  mean_fafse_negatives = 0\n",
        "  mean_sensitivity = 0\n",
        "  mean_specificity = 0\n",
        "  mean_precision = 0\n",
        "  mean_accuracy = 0\n",
        "  mean_iou = 0\n",
        "  mean_min = 0\n",
        "  mean_max = 0\n",
        "  mean_sepai = 0\n",
        "\n",
        "  # DECLARE VARIABLES STD\n",
        "  std_exec_time = 0\n",
        "  std_true_positives = 0\n",
        "  std_true_negatives = 0\n",
        "  std_false_positives = 0\n",
        "  std_fafse_negatives = 0\n",
        "  std_sensitivity = 0\n",
        "  std_specificity = 0\n",
        "  std_precision = 0\n",
        "  std_accuracy = 0\n",
        "  std_iou = 0\n",
        "  std_min = 0\n",
        "  std_max = 0\n",
        "  std_sepai = 0\n",
        "\n",
        "  # AVERAGE\n",
        "  mean_exec_time = np.mean(exec_time)\n",
        "  mean_true_positives = np.mean(truePositives)\n",
        "  mean_true_negatives = np.mean(trueNegatives)\n",
        "  mean_false_positives = np.mean(falsePositives)\n",
        "  mean_false_negatives = np.mean(falseNegatives)\n",
        "  mean_sensitivity = np.mean(sensitivity)\n",
        "  mean_specificity = np.mean(specificity)\n",
        "  mean_precision = np.mean(precision)\n",
        "  mean_accuracy = np.mean(accuracy)\n",
        "  mean_iou = np.mean(iou)\n",
        "  mean_min = np.mean(min)\n",
        "  mean_max = np.mean(max)\n",
        "  mean_sepai = np.mean(sepai)\n",
        "  \n",
        "  # STD\n",
        "  std_exec_time = np.std(exec_time)\n",
        "  std_true_positives = np.std(truePositives)\n",
        "  std_true_negatives = np.std(trueNegatives)\n",
        "  std_false_positives = np.std(falsePositives)\n",
        "  std_false_negatives = np.std(falseNegatives)\n",
        "  std_sensitivity = np.std(sensitivity)\n",
        "  std_specificity = np.std(specificity)\n",
        "  std_precision = np.std(precision)\n",
        "  std_accuracy = np.std(accuracy)\n",
        "  std_iou = np.std(iou)\n",
        "  std_min = np.std(min)\n",
        "  std_max = np.std(max)\n",
        "  std_sepai = np.std(sepai)\n",
        "\n",
        "  df_mean = pd.DataFrame({'IMAGE_NAME': [mean_name], 'SUPERPIXELS': 200, 'EXECUTION_TIME': mean_exec_time, 'TRUE_POSITIVES': mean_true_positives, 'TRUE_NEGATIVES': mean_true_negatives, 'FALSE_POSITIVES': mean_false_positives, 'FALSE_NEGATIVES': mean_false_negatives, 'SENSITIVITY': mean_sensitivity, 'SPECIFICITY': mean_specificity, 'PRECISION': mean_precision, 'ACCURACY': mean_accuracy, 'INTERSECTION_UNION': mean_iou, 'MIN SEPAI': mean_min, 'MAX SEPAI': mean_max, 'MEAN SEPAI': mean_sepai})\n",
        "  df_std = pd.DataFrame({'IMAGE_NAME': [std_name], 'SUPERPIXELS': 200, 'EXECUTION_TIME': std_exec_time, 'TRUE_POSITIVES': std_true_positives, 'TRUE_NEGATIVES': std_true_negatives, 'FALSE_POSITIVES': std_false_positives, 'FALSE_NEGATIVES': std_false_negatives, 'SENSITIVITY': std_sensitivity, 'SPECIFICITY': std_specificity, 'PRECISION': std_precision, 'ACCURACY': std_accuracy, 'INTERSECTION_UNION': std_iou, 'MIN SEPAI': std_min, 'MAX SEPAI': std_max, 'MEAN SEPAI': std_sepai})\n",
        "  #df_line_space = pd.DataFrame({'IMAGE_NAME': '', 'SUPERPIXELS': '', 'EXECUTION_TIME': '', 'TRUE_POSITIVES': '', 'TRUE_NEGATIVES': '', 'FALSE_POSITIVES': '', 'FALSE_NEGATIVES': '', 'SENSITIVITY': '', 'SPECIFICITY': '', 'PRECISION': '', 'ACCURACY': '', 'INTERSECTION_UNION': '' })\n",
        "\n",
        "  df_stats = []\n",
        "  #df_stats = df_header.append(df_line_space)\n",
        "  df_stats = df_header.append(df_mean)\n",
        "  #df_stats = df_stats.append(df_mean)\n",
        "  df_stats = df_stats.append(df_std)\n",
        "\n",
        "  # SAVE ALL STATISTICS IN DATAFRAME\n",
        "  #df_all_stats = df_all_stats.append(df_header)\n",
        "\n",
        "  # SAVE STATISTICS FILE AND OVERLAPPING IMAGE FROM SVM AND GRAB             \n",
        "  if method == 'SVM':\n",
        "    img_name = path+'/'+str(i)+'/'+str(i)+'_11_SVM_OVERLAPPING.jpg'\n",
        "    cv2.imwrite(img_name, overlappingImage)\n",
        "    file_name = path+'/'+str(i)+'/'+'w_image_statistics_svm.csv'\n",
        "    df_header.to_csv(file_name)\n",
        "\n",
        "  if method =='GRAB':\n",
        "    img_name = path+'/'+str(i)+'/'+str(i)+'_12_GRAB_OVERLAPPING.jpg'\n",
        "    cv2.imwrite(img_name, overlappingImage)\n",
        "    file_name = path+'/'+str(i)+'/'+'w_image_statistics_grab.csv'\n",
        "    df_header.to_csv(file_name)\n",
        "\n",
        "\n",
        "  # SAVE TXT FILE WITH STATISTICS VALUES FOR VISUALIZATION\n",
        "  if method == 'SVM':\n",
        "    stats_file = open(path+\"/\"+str(i)+\"/\"+\"w_image_statistics_visualization.txt\", \"w\")\n",
        "  else:\n",
        "    stats_file = open(path+\"/\"+str(i)+\"/\"+\"w_image_statistics_visualization.txt\", \"a\")\n",
        "\n",
        "  stats_file.write(\"******************************************\\n\")\n",
        "  stats_file.write(\"************* Method: \"+ method +\" ***************\\n\")\n",
        "  stats_file.write(\"******************************************\\n\")\n",
        "  stats_file.write(df_stats.to_string(index=False, header = True))\n",
        "  stats_file.write(\"\\n\\n\")\n",
        "  stats_file.close()\n",
        "\n",
        "  if method == 'SVM':\n",
        "    file_name = path+'/'+str(i)+'/'+'w_image_statistics_visualization.csv'\n",
        "    df_header.to_csv(file_name)\n",
        "  \n",
        "\n",
        "# WRITE STATISTICS AFTER THE COMPUTATION\n",
        "def write_statistics():\n",
        "  # IMPORT MULTIPLES CSV FILES INTO PANDAS AND CONCATENATE INTO ONE DATAFRAME\n",
        "\n",
        "  dfGrab = []\n",
        "  dfSvm = []\n",
        "  dfMean = []\n",
        "  dfStd = []\n",
        "  dfStats = []\n",
        "  df = []\n",
        "\n",
        "  mean_name = 'MÉDIA: ' \n",
        "  std_name = 'STD: '\n",
        "\n",
        "  methods = ['SVM','GRAB']\n",
        "  for method in methods:\n",
        "    for i in path_dir_name:\n",
        "      if i == '.ipynb_checkpoints' or i == 'w_image_all_statistics_visualization.txt' or i == 'w_image_all_statistics_visualization_rgb.txt' or i == 'w_image_all_statistics_visualization_lab.txt':\n",
        "        break\n",
        "      if method == 'SVM':\n",
        "        filename = path+'/'+str(i)+'/w_image_statistics_svm.csv'\n",
        "        df = pd.read_csv(filename, index_col=None, header=0)\n",
        "        df = df.iloc[: , 1:]\n",
        "        dfSvm.append(df)\n",
        "        frame = pd.concat(dfSvm, axis=0, ignore_index=True)\n",
        "        \n",
        "      if method == 'GRAB':\n",
        "        filename =  path+'/'+str(i)+'/w_image_statistics_grab.csv'\n",
        "        df = pd.read_csv(filename, index_col=None, header=0)\n",
        "        df = df.iloc[: , 1:]\n",
        "        dfGrab.append(df)\n",
        "        frame = pd.concat(dfGrab, axis=0, ignore_index=True)\n",
        "\n",
        "    dfMean = frame.mean(axis = 0)\n",
        "    dfMean = dfMean.to_frame().T\n",
        "    \n",
        "    dfStd = frame.std(axis = 0)\n",
        "    dfStd = dfStd.to_frame().T\n",
        "    \n",
        "    dfStats = dfMean.append(dfStd)\n",
        "\n",
        "    print(\"\\nMEDIA E DESVIO PADRÃO DO\", method)\n",
        "    print(dfStats.to_string(index=False))\n",
        "\n",
        "    #print(\"\\nDESVIO PADRÃO DO\", method)\n",
        "    #print(frame.std(axis = 0))\n",
        "\n",
        "    #frame = pd.concat(dfMean, axis=0, ignore_index=True)\n",
        "    #frame = pd.concat(frame.std(axis = 0).to_frame() , axis=0, ignore_index=True)\n",
        "\n",
        "    if method == 'SVM':\n",
        "      stats_file = open(path+\"/\"+\"w_image_all_statistics_visualization_\"+color_space+\".txt\", \"w\")\n",
        "    else:\n",
        "      stats_file = open(path+\"/\"+\"w_image_all_statistics_visualization_\"+color_space+\".txt\", \"a\")\n",
        "\n",
        "    stats_file.write(\"******************************************\\n\")\n",
        "    stats_file.write(\"************* Method: \"+ method +\" ***************\\n\")\n",
        "    stats_file.write(\"******************************************\\n\")\n",
        "    stats_file.write(frame.to_string(index=False, header = True))\n",
        "    stats_file.write(\"\\n\\n\")\n",
        "    stats_file.write(dfStats.to_string(index=False, header = True))\n",
        "    stats_file.write(\"\\n\\n\")\n",
        "\n",
        "    stats_file.close()\n",
        "\n"
      ]
    },
    {
      "cell_type": "code",
      "execution_count": null,
      "metadata": {
        "id": "5Fz7cJrg992a"
      },
      "outputs": [],
      "source": [
        "write_statistics()"
      ]
    },
    {
      "cell_type": "markdown",
      "metadata": {
        "id": "Ute4B71ywk_O"
      },
      "source": [
        "#Main Program\n",
        "In this code, we execute the main program"
      ]
    },
    {
      "cell_type": "code",
      "execution_count": null,
      "metadata": {
        "id": "DeuPBZ-Z4Hgg"
      },
      "outputs": [],
      "source": [
        "# SETUP DIR\n",
        "seg_name = 'disf5'\n",
        "color_space = 'rgb'\n",
        "path = ('/content/drive/MyDrive/Projeto/test/'+color_space+'/'+seg_name)\n",
        "path_dir_name = os.listdir(path)\n",
        "print(path_dir_name)\n",
        "\n",
        "# MAIN PROGRAM\n",
        "for i in path_dir_name:\n",
        "  if i == '.ipynb_checkpoints' or i == 'w_image_all_statistics_visualization_rgb.txt' or i == 'w_image_all_statistics_visualization_lab.txt' or i == 'w_image_all_statistics_visualization.txt' :\n",
        "    continue\n",
        "  print(\"****************************************\")\n",
        "  print(\"Processando a imagem\", i)\n",
        "  print(\"****************************************\")\n",
        "\n",
        "  # READ IMAGES IN SPECIFIC COLOR SPACE\n",
        "  rgbImage = cv2.imread(path+'/'+str(i)+'/'+str(i)+'_01_WITHOUT_REFLECTIONS.jpg')\n",
        "  labImage = cv2.cvtColor(rgbImage, cv2.COLOR_BGR2LAB)\n",
        "  hsvImage = cv2.cvtColor(rgbImage, cv2.COLOR_BGR2HSV)\n",
        "\n",
        "  # READ BINARY IMAGES AND CONVERT TO PGM \n",
        "  gtBinary = convert_pgm(cv2.imread(path+'/'+str(i)+'/'+str(i)+'_00_GROUND_TRUTH_BINARY.jpg'))\n",
        "  svmBinary = convert_pgm(cv2.imread(path+'/'+str(i)+'/'+str(i)+'_05_SVM_CLASSIFICATION.jpg'))\n",
        "  grabBinary = convert_pgm(cv2.imread(path+'/'+str(i)+'/'+str(i)+'_06_GRABCUT_BINARY_SEGMENTATION.jpg'))\n",
        "  skeletonBinary = convert_pgm(cv2.imread(path+'/'+str(i)+'/'+str(i)+'_10_SEKELETON_WITHOUT_BRANCHS.jpg'))\n",
        "  \n",
        "  # COMPUTE SEEDS\n",
        "  seeds = seeds_computation(skeletonBinary, svmBinary, 5000, 5000)\n",
        "\n",
        "  # DEFINE EXECT_TIME ALLEATORY FOR TEST\n",
        "  exec_time = 0\n",
        "\n",
        "  # CREATE OVERLAPPING STATS\n",
        "  methods = ['SVM', 'GRAB']\n",
        "  for method in methods:\n",
        "    if method == 'SVM':\n",
        "      overlapping_stats(method, i, exec_time, gtBinary, svmBinary)\n",
        "      #break\n",
        "    if method == 'GRAB':\n",
        "      overlapping_stats(method, i, exec_time, gtBinary, grabBinary)\n",
        "      #break\n",
        "    \n",
        "print(\"Programa finalizado com sucesso!\")\n",
        "\n",
        "# COMPUTE AND WRITE STATS FOR SEGMENTATION EVALUATION\n",
        "write_statistics()\n",
        "print(\"Estatísticas criadas com sucesso!\")\n"
      ]
    },
    {
      "cell_type": "markdown",
      "metadata": {
        "id": "4Izwi_7qxW2z"
      },
      "source": [
        "# UTILS: METHODS FOR TEST SOME APPROACHES\n",
        "## Pré processing tecniques\n",
        "\n",
        "This part of the code has some methods for test the approach "
      ]
    },
    {
      "cell_type": "code",
      "execution_count": null,
      "metadata": {
        "colab": {
          "base_uri": "https://localhost:8080/",
          "height": 1000
        },
        "id": "QBUGYy4aQsuA",
        "outputId": "6377e8bb-22ac-4476-d54a-72a1c69168d2"
      },
      "outputs": [
        {
          "name": "stdout",
          "output_type": "stream",
          "text": [
            "Resultado\n"
          ]
        },
        {
          "data": {
            "image/png": "[encoded data removed]",
            "text/plain": [
              "<PIL.Image.Image image mode=RGB size=300x240 at 0x7F656EF54400>"
            ]
          },
          "metadata": {},
          "output_type": "display_data"
        },
        {
          "name": "stdout",
          "output_type": "stream",
          "text": [
            "Resultado\n"
          ]
        },
        {
          "data": {
            "image/png": "[encoded data removed]",
            "text/plain": [
              "<PIL.Image.Image image mode=RGB size=300x240 at 0x7F656EF54370>"
            ]
          },
          "metadata": {},
          "output_type": "display_data"
        },
        {
          "name": "stdout",
          "output_type": "stream",
          "text": [
            "Resultado\n"
          ]
        },
        {
          "data": {
            "image/png": "[encoded data removed]",
            "text/plain": [
              "<PIL.Image.Image image mode=RGB size=300x240 at 0x7F656EF54400>"
            ]
          },
          "metadata": {},
          "output_type": "display_data"
        },
        {
          "name": "stdout",
          "output_type": "stream",
          "text": [
            "Resultado\n"
          ]
        },
        {
          "data": {
            "image/png": "[encoded data removed]",
            "text/plain": [
              "<PIL.Image.Image image mode=RGB size=300x240 at 0x7F656EF54370>"
            ]
          },
          "metadata": {},
          "output_type": "display_data"
        },
        {
          "name": "stdout",
          "output_type": "stream",
          "text": [
            "Resultado\n"
          ]
        },
        {
          "data": {
            "image/png": "[encoded data removed]",
            "text/plain": [
              "<PIL.Image.Image image mode=RGB size=300x240 at 0x7F656EF54400>"
            ]
          },
          "metadata": {},
          "output_type": "display_data"
        },
        {
          "name": "stdout",
          "output_type": "stream",
          "text": [
            "Resultado\n"
          ]
        },
        {
          "data": {
            "image/png": "[encoded data removed]",
            "text/plain": [
              "<PIL.Image.Image image mode=RGB size=300x240 at 0x7F656EF54370>"
            ]
          },
          "metadata": {},
          "output_type": "display_data"
        },
        {
          "name": "stdout",
          "output_type": "stream",
          "text": [
            "Resultado\n"
          ]
        },
        {
          "data": {
            "image/png": "[encoded data removed]",
            "text/plain": [
              "<PIL.Image.Image image mode=RGB size=300x240 at 0x7F656EF54400>"
            ]
          },
          "metadata": {},
          "output_type": "display_data"
        },
        {
          "name": "stdout",
          "output_type": "stream",
          "text": [
            "Resultado\n"
          ]
        },
        {
          "data": {
            "image/png": "[encoded data removed]",
            "text/plain": [
              "<PIL.Image.Image image mode=RGB size=300x240 at 0x7F656EF54370>"
            ]
          },
          "metadata": {},
          "output_type": "display_data"
        },
        {
          "name": "stdout",
          "output_type": "stream",
          "text": [
            "Resultado\n"
          ]
        },
        {
          "data": {
            "image/png": "[encoded data removed]",
            "text/plain": [
              "<PIL.Image.Image image mode=RGB size=300x240 at 0x7F656EF54130>"
            ]
          },
          "metadata": {},
          "output_type": "display_data"
        },
        {
          "name": "stdout",
          "output_type": "stream",
          "text": [
            "Resultado\n"
          ]
        },
        {
          "data": {
            "image/png": "[encoded data removed]",
            "text/plain": [
              "<PIL.Image.Image image mode=RGB size=300x240 at 0x7F656EF54370>"
            ]
          },
          "metadata": {},
          "output_type": "display_data"
        },
        {
          "name": "stdout",
          "output_type": "stream",
          "text": [
            "Resultado\n"
          ]
        },
        {
          "data": {
            "image/png": "[encoded data removed]",
            "text/plain": [
              "<PIL.Image.Image image mode=RGB size=300x240 at 0x7F656EF54400>"
            ]
          },
          "metadata": {},
          "output_type": "display_data"
        },
        {
          "name": "stdout",
          "output_type": "stream",
          "text": [
            "Resultado\n"
          ]
        },
        {
          "data": {
            "image/png": "[encoded data removed]",
            "text/plain": [
              "<PIL.Image.Image image mode=RGB size=300x240 at 0x7F656EF54370>"
            ]
          },
          "metadata": {},
          "output_type": "display_data"
        },
        {
          "name": "stdout",
          "output_type": "stream",
          "text": [
            "Resultado\n"
          ]
        },
        {
          "data": {
            "image/png": "[encoded data removed]",
            "text/plain": [
              "<PIL.Image.Image image mode=RGB size=300x240 at 0x7F656EF54400>"
            ]
          },
          "metadata": {},
          "output_type": "display_data"
        },
        {
          "name": "stdout",
          "output_type": "stream",
          "text": [
            "Resultado\n"
          ]
        },
        {
          "data": {
            "image/png": "[encoded data removed]",
            "text/plain": [
              "<PIL.Image.Image image mode=RGB size=300x240 at 0x7F655517D5B0>"
            ]
          },
          "metadata": {},
          "output_type": "display_data"
        },
        {
          "name": "stdout",
          "output_type": "stream",
          "text": [
            "Resultado\n"
          ]
        },
        {
          "data": {
            "image/png": "[encoded data removed]",
            "text/plain": [
              "<PIL.Image.Image image mode=RGB size=300x240 at 0x7F655572AF10>"
            ]
          },
          "metadata": {},
          "output_type": "display_data"
        },
        {
          "name": "stdout",
          "output_type": "stream",
          "text": [
            "Resultado\n"
          ]
        },
        {
          "data": {
            "image/png": "[encoded data removed]",
            "text/plain": [
              "<PIL.Image.Image image mode=RGB size=300x240 at 0x7F656EF54130>"
            ]
          },
          "metadata": {},
          "output_type": "display_data"
        },
        {
          "name": "stdout",
          "output_type": "stream",
          "text": [
            "Resultado\n"
          ]
        },
        {
          "data": {
            "image/png": "[encoded data removed]",
            "text/plain": [
              "<PIL.Image.Image image mode=RGB size=300x240 at 0x7F6555712400>"
            ]
          },
          "metadata": {},
          "output_type": "display_data"
        },
        {
          "name": "stdout",
          "output_type": "stream",
          "text": [
            "Resultado\n"
          ]
        },
        {
          "data": {
            "image/png": "[encoded data removed]",
            "text/plain": [
              "<PIL.Image.Image image mode=RGB size=300x240 at 0x7F656EF54130>"
            ]
          },
          "metadata": {},
          "output_type": "display_data"
        },
        {
          "name": "stdout",
          "output_type": "stream",
          "text": [
            "Resultado\n"
          ]
        },
        {
          "data": {
            "image/png": "[encoded data removed]",
            "text/plain": [
              "<PIL.Image.Image image mode=RGB size=300x240 at 0x7F656DF05160>"
            ]
          },
          "metadata": {},
          "output_type": "display_data"
        },
        {
          "name": "stdout",
          "output_type": "stream",
          "text": [
            "Resultado\n"
          ]
        },
        {
          "data": {
            "image/png": "[encoded data removed]",
            "text/plain": [
              "<PIL.Image.Image image mode=RGB size=300x240 at 0x7F656EF54130>"
            ]
          },
          "metadata": {},
          "output_type": "display_data"
        },
        {
          "name": "stdout",
          "output_type": "stream",
          "text": [
            "Resultado\n"
          ]
        },
        {
          "data": {
            "image/png": "[encoded data removed]",
            "text/plain": [
              "<PIL.Image.Image image mode=RGB size=300x240 at 0x7F656EF54370>"
            ]
          },
          "metadata": {},
          "output_type": "display_data"
        }
      ],
      "source": [
        "#img = cv2.imread(\"/content/drive/MyDrive/Projeto/rgb/disf5/9/9_01_WITHOUT_REFLECTIONS.jpg\")\n",
        "binary_gt(path_dir_name)"
      ]
    },
    {
      "cell_type": "code",
      "execution_count": null,
      "metadata": {
        "id": "Zf8EzUuDTffo"
      },
      "outputs": [],
      "source": [
        "# DILATATION AND EROSION METHODS\n",
        "\n",
        "from matplotlib import image\n",
        "import cv2\n",
        "import numpy as np\n",
        " \n",
        "# Reading the input image\n",
        "img = cv2.imread(\"/content/drive/MyDrive/Projeto/rgb/disf5/105/105_10_SKELETON_WITHOUT_BRANCHS.jpg\")\n",
        "\n",
        "\n",
        "# Taking a matrix of size 5 as the kernel\n",
        "kernel = np.ones((5,5), np.uint8)\n",
        " \n",
        "# The first parameter is the original image,\n",
        "# kernel is the matrix with which image is\n",
        "# convolved and third parameter is the number\n",
        "# of iterations, which will determine how much\n",
        "# you want to erode/dilate a given image.\n",
        "img_erosion = cv2.erode(img, kernel, iterations=3)\n",
        "img_dilation = cv2.dilate(img, kernel, iterations=3)\n",
        "\n",
        "print(\"image original\")\n",
        "cv2_imshow(img)\n",
        "print(\"image erosion\")\n",
        "cv2_imshow(img_erosion)\n",
        "print(\"image dilatation\")\n",
        "cv2_imshow(img_dilation)\n",
        "\n",
        "# DETECT AND DRAW CONTOURS\n",
        "def draw_contour(img):\n",
        "  img_copy = img.copy()\n",
        "  img_gray = cv2.cvtColor(img_copy, cv2.COLOR_BGR2GRAY)\n",
        "  contours, hierarchy = cv2.findContours(img_gray, cv2.RETR_CCOMP, cv2.CHAIN_APPROX_NONE)\n",
        "  cv2.drawContours(img_copy, contours, -1, (0,255), 3);\n",
        "  plt.figure(figsize=[10,10])\n",
        "  plt.imshow(img_copy[:,:,::-1]); plt.axis(\"off\"); plt.title('Contours Draw');\n",
        "\n",
        "# DETECT AND DRAW BIGGEST CONTOURS\n",
        "def draw_largest_contour(img):\n",
        "  img_copy = img.copy()\n",
        "  img_gray = cv2.cvtColor(img_copy, cv2.COLOR_BGR2GRAY)\n",
        "  contours, hierarchy = cv2.findContours(img_gray, cv2.RETR_CCOMP, cv2.CHAIN_APPROX_NONE)\n",
        "  biggest_contour = max(contours, key = cv2.contourArea)\n",
        "  cv2.drawContours(img_copy, biggest_contour, -1, (0,255), 3);\n",
        "  plt.figure(figsize=[10,10])\n",
        "  plt.imshow(img_copy[:,:,::-1]); plt.axis(\"off\"); plt.title('The Biggest Contours Draw');\n",
        "\n",
        "# SALIENCY DETECTION\n",
        "def saliency_detection_sr(img):\n",
        "  img_copy = img.copy()\n",
        "  # inicialize o detector residual espectral de saliência estática do OpenCV e calcula o mapa de saliência\n",
        "  saliency = cv2.saliency.StaticSaliencySpectralResidual_create()\n",
        "  (success, saliencyMap) = saliency.computeSaliency(img_copy)\n",
        "  saliencyMap = (saliencyMap * 255).astype(\"uint8\")\n",
        "  cv2_imshow(img_copy)\n",
        "  cv2_imshow(saliencyMap)\n",
        "\n",
        "def saliency_detection_sfg(img):\n",
        "  img_copy = img.copy()\n",
        "  saliency = cv2.saliency.StaticSaliencyFineGrained_create()\n",
        "  (success, saliencyMap) = saliency.computeSaliency(img_copy)\n",
        "  saliencyMap = (saliencyMap * 255).astype(\"uint8\")\n",
        "  # se quisermos um mapa *binário* que possamos processar para contornos,\n",
        "  # calcular cascos convexos, extrair caixas delimitadoras, etc., podemos\n",
        "  # adicionalmente limita o mapa de saliência\n",
        "  threshMap = cv2.threshold(saliencyMap.astype(\"uint8\"), 0, 255,\n",
        "\tcv2.THRESH_BINARY | cv2.THRESH_OTSU)[1]\n",
        "  cv2_imshow(img_copy)\n",
        "  cv2_imshow(saliencyMap)\n",
        "  cv2_imshow(threshMap)\n",
        "\n",
        "def plot_images(img):\n",
        "  plt.figure(figsize=[10,10])\n",
        "  plt.imshow(img_copy[:,::-1]); plt.axis(\"off\"); plt.title('Original Image');\n",
        "  plt.figure(figsize=[10,10])\n",
        "  plt.imshow(threshMap[:,::-1]); plt.axis(\"off\"); plt.title('Thresh Map Image');\n",
        "  plt.figure(figsize=[10,10])\n",
        "  plt.imshow(saliencyMap[:,::-1]); plt.axis(\"off\"); plt.title('Saliency Map Image');\n",
        "\n",
        "def canny(img):\n",
        "  # load the image, convert it to grayscale, and blur it slightly\n",
        "  img = cv2.imread(img)\n",
        "  gray = cv2.cvtColor(image, cv2.COLOR_BGR2GRAY)\n",
        "  blurred = cv2.GaussianBlur(gray, (5, 5), 0)\n",
        "\n",
        "  # show the original and blurred images\n",
        "  cv2.imshow(\"Original\", img)\n",
        "  cv2.imshow(\"Blurred\", blurred)\n",
        "\n",
        "  # GRABCUT SEGMENTATION\n",
        "def grabCutSegmentation(img, mask, ):\n",
        "  mask, bgdModel, fgdModel = cv.grabCut(img,mask,None,bgdModel,fgdModel,5,cv.GC_INIT_WITH_MASK)\n",
        "  mask = np.where((mask==2)|(mask==0),0,1).astype('uint8')\n",
        "  img = img*mask[:,:,np.newaxis]\n",
        "  plt.imshow(img),plt.colorbar(),plt.show()\n"
      ]
    },
    {
      "cell_type": "code",
      "execution_count": null,
      "metadata": {
        "id": "TIGT6RT-MYc3"
      },
      "outputs": [],
      "source": [
        "# MORPHOLOGY PROCESSING\n",
        "# https://stackoverflow.com/questions/67117928/how-to-decide-on-the-kernel-to-use-for-dilations-opencv-python\n",
        "# read image as grayscale\n",
        "#img = cv2.imread('blob3.png', cv2.IMREAD_GRAYSCALE)\n",
        "\n",
        "# threshold to binary\n",
        "#thresh = cv2.threshold(img, 0, 255, cv2.THRESH_BINARY)[1]\n",
        "\n",
        "# apply morphology open with square kernel to remove small white spots\n",
        "kernel = cv2.getStructuringElement(cv2.MORPH_CROSS, (3,3))\n",
        "morph1 = cv2.morphologyEx(result, cv2.MORPH_OPEN, kernel)\n",
        "\n",
        "# apply morphology close with horizontal rectangle kernel to fill horizontal gap\n",
        "kernel = cv2.getStructuringElement(cv2.MORPH_CROSS, (20,20))\n",
        "morph2 = cv2.morphologyEx(morph1, cv2.MORPH_CLOSE, kernel)\n",
        "\n",
        "kernel = cv2.getStructuringElement(cv2.MORPH_ELLIPSE, (5,5))\n",
        "morph3 = cv2.morphologyEx(morph1, cv2.MORPH_OPEN, kernel)\n",
        "\n",
        "# write results\n",
        "#cv2.imwrite(\"blob3_morph1.png\", morph1)\n",
        "#cv2.imwrite(\"blob3_morph2.png\", morph2)\n",
        "\n",
        "# show results\n",
        "print(\"Resultado Original\")\n",
        "cv2_imshow(result)\n",
        "print(\"Morph Cross Open 3x3\")\n",
        "cv2_imshow(morph1)\n",
        "print(\"Morph Cross Close 20x20\")\n",
        "cv2_imshow(morph2)\n",
        "print(\"Morph Ellipse Close 5x5\")\n",
        "cv2_imshow(morph3)"
      ]
    },
    {
      "cell_type": "markdown",
      "metadata": {
        "id": "e-53QYxkgJ4b"
      },
      "source": [
        "## Another methods for produtivity"
      ]
    },
    {
      "cell_type": "code",
      "execution_count": null,
      "metadata": {
        "id": "6pdwcGs87Lfv"
      },
      "outputs": [],
      "source": [
        "# CONVERT IMG TO PGM\n",
        "def convert_pgm(img):\n",
        "  img = cv2.cvtColor(img, cv2.COLOR_BGR2GRAY)\n",
        "  img[img < 127] = 0\n",
        "  img[img != 0] = 255\n",
        "  #cv2_imshow(img)\n",
        "  return img\n",
        "\n",
        "# SETUP DIR\n",
        "path = ('/content/drive/MyDrive/Projeto/rgb/disf5/')\n",
        "path_dir_name = os.listdir(path)\n",
        "i = 105\n",
        "print(\"Processando a imagem\", i)\n",
        "\n",
        "# LOAD IMAGE\n",
        "img_name = path+'/'+str(i)+'/'+str(i)+'_02_LABELED_RESAMPLE.jpg'\n",
        "img = cv2.imread(img_name)\n",
        "print(\"Image Original\")\n",
        "cv2_imshow(img)\n",
        "\n",
        "img[img < 11] = 0\n",
        "print(\"Image < 11\")\n",
        "cv2_imshow(img)\n",
        "\n",
        "gray = cv2.cvtColor(img,cv2.COLOR_BGR2GRAY)\n",
        "#img = convert_pgm(img)\n",
        "\n",
        "# FIND OUTER CONTOUR AND FILL WITH WHITE\n",
        "cnts = cv2.findContours(gray, cv2.RETR_TREE, cv2.CHAIN_APPROX_SIMPLE)\n",
        "cnts = cnts[0] if len(cnts) == 2 else cnts[1]\n",
        "\n",
        "max = int(0)\n",
        "\n",
        "for contour in cnts:\n",
        "  if max < len(cnts):\n",
        "    largerOutline = cnts\n",
        "    max = len(cnts)\n",
        "\n",
        "blackMask = np.zeros([240, 300, 3], dtype=np.uint8)\n",
        "\n",
        "polyMask = cv2.polylines(blackMask, largerOutline, isClosed = True, color=(0,0,0) , thickness = 5)\n",
        "result = cv2.fillPoly(polyMask , largerOutline, [255,255,255])\n",
        "\n",
        "print(\"Resultado\")\n",
        "cv2_imshow(result)"
      ]
    },
    {
      "cell_type": "code",
      "execution_count": null,
      "metadata": {
        "id": "f26ndG6MWvYE"
      },
      "outputs": [],
      "source": [
        "# CREATE GROUND TRUTH IMAGE\n",
        "print(\"\\n\")\n",
        "print(\"****************************************\")\n",
        "print(\"Criando o Ground Truth da imagem\")\n",
        "print(\"****************************************\")\n",
        "\n",
        "binary_gt(path_dir_name)"
      ]
    },
    {
      "cell_type": "code",
      "execution_count": null,
      "metadata": {
        "id": "LFRYK1CTmWGp"
      },
      "outputs": [],
      "source": [
        "# SEARCH SPECIFIC FILE IN DIRECTORY AND DELETE\n",
        "\n",
        "superpixels = ['disf5', 'ers','lsc','seeds','slic','snic']\n",
        "\n",
        "path = ('/content/drive/MyDrive/Projeto/ers/')\n",
        "path_dir_name = os.listdir(path)\n",
        "\n",
        "for i in path_dir_name:\n",
        "\n",
        "  if i == '.ipynb_checkpoints':\n",
        "    continue\n",
        "  \n",
        "  myfile = path+'/'+str(i)+'/'+str(i)+'_14_GRAB_SEEDS_DISTRIBUITION.jpg'\n",
        "  print(\"Deletando o arquivo\", myfile)\n",
        "\n",
        "  ## If file exists, delete it ##\n",
        "  if os.path.isfile(myfile):\n",
        "      os.remove(myfile)\n",
        "  else:    \n",
        "  ## Show an error ##\n",
        "      print(\"Error: %s file not found\" % myfile)\n"
      ]
    },
    {
      "cell_type": "code",
      "execution_count": null,
      "metadata": {
        "id": "SbJoVzB-B8QX"
      },
      "outputs": [],
      "source": [
        "# LOAD PATH AND IMAGES\n",
        "path = ('/content/drive/MyDrive/disf5/')\n",
        "path_dir_name = os.listdir(path)\n",
        "imgtype_name1 = \"_16_BINARY_SEGMENTATION_2\"\n",
        "imgtype_name2 = \"_02_LABELED_RESAMPLE\"\n",
        "img1 = path+'/'+str(i)+'/'+str(i)+imgtype_name1+'.jpg'\n",
        "img2 = path+'/'+str(i)+'/'+str(i)+imgtype_name2+'.jpg'\n",
        "img1 = cv2.imread(img1)\n",
        "img2 = cv2.imread(img2)\n",
        "type(img1)"
      ]
    },
    {
      "cell_type": "code",
      "execution_count": null,
      "metadata": {
        "id": "-NA_t971Fap9"
      },
      "outputs": [],
      "source": [
        "# FIND CONTOURS\n",
        "cnts = cv2.findContours(img2, cv2.RETR_EXTERNAL, cv2.CHAIN_APPROX_SIMPLE)\n",
        "cnts = cnts[0] if len(cnts) == 2 else cnts[1]\n",
        "\n",
        "for c in cnts:\n",
        "    x,y,w,h = cv2.boundingRect(c)\n",
        "    ROI = img2[y:y+h, x:x+w]\n",
        "cv2_imshow(ROI)"
      ]
    },
    {
      "cell_type": "code",
      "execution_count": null,
      "metadata": {
        "id": "iKBAKE6gM_1_"
      },
      "outputs": [],
      "source": [
        "# REMOVE FIRST AND LAST COLUMN\n",
        "img2_sub = img2[1:-1,1:-1]\n",
        "cv2_imshow(img2_sub)\n",
        "img2_sub.shape"
      ]
    },
    {
      "cell_type": "code",
      "execution_count": null,
      "metadata": {
        "id": "hWKdJVeyWswB"
      },
      "outputs": [],
      "source": [
        "type(img2)"
      ]
    },
    {
      "cell_type": "code",
      "execution_count": null,
      "metadata": {
        "id": "x88vx2XBjtAd"
      },
      "outputs": [],
      "source": [
        "white = np.where(img2 == [255])"
      ]
    },
    {
      "cell_type": "code",
      "execution_count": null,
      "metadata": {
        "id": "68i-Fz6mAcbj"
      },
      "outputs": [],
      "source": [
        "# SELECT WHITE PIXELS FROM IMAGE IN BOARD\n",
        "first_row = img2[[1,5], :]\n",
        "last_row = img2[[234,239], :]\n",
        "first_column = img[:, [1,6]]\n",
        "last_column = img[:, [294,299]]\n",
        "white = np.zeros(img2.shape)\n",
        "white[[1,5], :] = first_row\n",
        "white[[234,239], :] = last_row\n",
        "white[:, [1,6]] = first_column\n",
        "white[:, [294,299]] = last_column\n",
        "#white = np.where(white == [255])\n",
        "\n",
        "\n",
        "#white = cv2.cvtColor(white, cv2.COLOR_BGR2GRAY)\n",
        "#white[white < 127] = 0\n",
        "#white[white != 0] = 255\n",
        "#white = np.where(white == [255])\n",
        "imgplot = plt.imshow(white)\n",
        "imgplot.set_cmap('binary_r')"
      ]
    },
    {
      "cell_type": "code",
      "execution_count": null,
      "metadata": {
        "id": "crSANo_03UmD"
      },
      "outputs": [],
      "source": [
        "# TEST SOME IMAGE PLOTS\n",
        "imgplot = plt.imshow(labels)\n",
        "imgplot.set_cmap('binary')"
      ]
    },
    {
      "cell_type": "code",
      "execution_count": null,
      "metadata": {
        "id": "VP-wdHBIFYs1"
      },
      "outputs": [],
      "source": [
        "imgplot = plt.imshow(image)\n",
        "imgplot.set_cmap('gray')"
      ]
    },
    {
      "cell_type": "code",
      "execution_count": null,
      "metadata": {
        "id": "deWbdXih5jY-"
      },
      "outputs": [],
      "source": [
        "# CHECK IF THE LABELS AND SEEDS MASK ARE EQUAL\n",
        "labels == seeds"
      ]
    },
    {
      "cell_type": "code",
      "execution_count": null,
      "metadata": {
        "id": "vYD375mSlE3x"
      },
      "outputs": [],
      "source": [
        "imgplot = plt.imshow(df_data)\n",
        "#imgplot.set_cmap('gray')"
      ]
    },
    {
      "cell_type": "code",
      "execution_count": null,
      "metadata": {
        "id": "icR1dtu5OdbG"
      },
      "outputs": [],
      "source": [
        "# COVERT LABELS FOR NECESSARY RANe\n",
        "output = (seeds*199).astype('uint8')\n",
        "imgplot = plt.imshow(output)\n",
        "imgplot.set_cmap('binary')"
      ]
    }
  ],
  "metadata": {
    "colab": {
      "provenance": []
    },
    "gpuClass": "standard",
    "kernelspec": {
      "display_name": "Python 3",
      "name": "python3"
    },
    "language_info": {
      "name": "python"
    }
  },
  "nbformat": 4,
  "nbformat_minor": 0
}
